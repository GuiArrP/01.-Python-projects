{
 "cells": [
  {
   "cell_type": "markdown",
   "metadata": {},
   "source": [
    "# Descrição\n",
    "\n",
    "   -O objetivo desse codigo é conseguir rodar um jogo da velha simples para 2 jogadores;\n",
    "   \n",
    "   -O codigo foi construido usando funções basicas do pandas como importar bibliotecas, loop while, if/else, declaração de variáveis, funções e utilização de input e output. Foi utilizado também a utilização da biblioteca pandas, para a criação, utilização e manipulação de DataFrames;\n",
    "   \n",
    "   -Existem outras maneiras de se fazer esse jogo, mas para esse projeto eu me desafiei em utilizar essas funções do Python para mostrar como elas podem ser exploradas e suas aplicações;\n",
    "    "
   ]
  },
  {
   "cell_type": "markdown",
   "metadata": {},
   "source": [
    "# Bibliotecas necessárias para rodar o jogo"
   ]
  },
  {
   "cell_type": "code",
   "execution_count": null,
   "metadata": {},
   "outputs": [],
   "source": [
    "#Retire o '#' comentário para instalar as bibliotecas ou use o .pip\n",
    "\n",
    "#!pip install pandas\n",
    "#!pip install Numpy"
   ]
  },
  {
   "cell_type": "markdown",
   "metadata": {},
   "source": [
    "# Importando bibliotecas"
   ]
  },
  {
   "cell_type": "code",
   "execution_count": null,
   "metadata": {},
   "outputs": [],
   "source": [
    "import numpy as np\n",
    "import pandas as pd\n",
    "import random\n",
    "from pandas import DataFrame"
   ]
  },
  {
   "cell_type": "markdown",
   "metadata": {},
   "source": [
    "# Definindo funções"
   ]
  },
  {
   "cell_type": "code",
   "execution_count": null,
   "metadata": {},
   "outputs": [],
   "source": [
    "#Função preenchimento do tabuleiro\n",
    "def preencher(linha,coluna,simbolo) :\n",
    "    tabuleiro.loc[linha,coluna] = simbolo\n",
    "\n",
    "#Função para determimar a vitoria\n",
    "\n",
    "def vitoria(linha,coluna,simbolo) :\n",
    "    v_linha = 0\n",
    "    v_coluna = 0\n",
    "    v_diagonal_1 = 0\n",
    "    v_diagonal_2 = 0\n",
    "\n",
    "    #Calcular vitoria pela linha\n",
    "    \n",
    "    if tabuleiro.loc[linha,'A'] == simbolo :\n",
    "        v_linha = v_linha + 1\n",
    "    if tabuleiro.loc[linha,'B'] == simbolo :\n",
    "        v_linha = v_linha + 1\n",
    "    if tabuleiro.loc[linha,'C'] == simbolo :\n",
    "        v_linha = v_linha + 1\n",
    "\n",
    "    #Calcular vitoria pela coluna\n",
    "    \n",
    "    if tabuleiro.loc[0,coluna] == simbolo :\n",
    "        v_coluna = v_coluna + 1\n",
    "    if tabuleiro.loc[1,coluna] == simbolo :\n",
    "        v_coluna = v_coluna + 1\n",
    "    if tabuleiro.loc[2,coluna] == simbolo :\n",
    "        v_coluna = v_coluna + 1\n",
    "\n",
    "    #Calcular vitoria pela diagonal 1\n",
    "    \n",
    "    if tabuleiro.loc[0,'A'] == simbolo :\n",
    "        v_diagonal_1 = v_diagonal_1 + 1\n",
    "    if tabuleiro.loc[1,'B'] == simbolo :\n",
    "        v_diagonal_1 = v_diagonal_1 + 1\n",
    "    if tabuleiro.loc[2,'C'] == simbolo:\n",
    "        v_diagonal_1 = v_diagonal_1 + 1\n",
    "\n",
    "    #Calcular vitoria pela diagonal 2\n",
    "    \n",
    "    if tabuleiro.loc[0,'C'] == simbolo :\n",
    "        v_diagonal_2 = v_diagonal_2 + 1\n",
    "    if tabuleiro.loc[1,'B'] == simbolo :\n",
    "        v_diagonal_2 = v_diagonal_2 + 1\n",
    "    if tabuleiro.loc[2,'A'] == simbolo :\n",
    "        v_diagonal_2 = v_diagonal_2 + 1\n",
    "\n",
    "    #Definir vitoria\n",
    "    \n",
    "    if (v_linha == 3 or v_coluna == 3 or v_diagonal_1 == 3 or v_diagonal_2 == 3) :\n",
    "        partida = 'Vitoria'\n",
    "    else :\n",
    "        partida = 'Nada'\n",
    "    return partida"
   ]
  },
  {
   "cell_type": "markdown",
   "metadata": {},
   "source": [
    "# Regras do Jogo"
   ]
  },
  {
   "cell_type": "code",
   "execution_count": null,
   "metadata": {},
   "outputs": [],
   "source": [
    "print('Instruções:\\n')\n",
    "print('1. Insira o nome dos jogadores;\\n')\n",
    "print('2. O jogo irá escolher quem vai começar automaticamente;\\n')\n",
    "print('3. O jogador que irá jogar primeiro escolhe se quer jogar com X ou O;\\n')\n",
    "print('4. Um tabuleiro vazio ira aparecer com colunas nomeadas de A, B e C e linhas numeradas de 0, 1 e 2;\\n ')\n",
    "print('5. Os jogadores devem selecionar uma linha e uma coluna, onde as letras sempre devem estar em maiusculo;\\n ')\n",
    "print('6. As rodadas vão acontecer até que ocorra a vitoria de um dos participantes ou um empate.\\n')\n",
    "print('--------------------------------------------------------------\\n')"
   ]
  },
  {
   "cell_type": "markdown",
   "metadata": {},
   "source": [
    "# Confirmação do entendimento das regras"
   ]
  },
  {
   "cell_type": "code",
   "execution_count": null,
   "metadata": {},
   "outputs": [],
   "source": [
    "print('O jogo pode começar?')\n",
    "\n",
    "resposta = 'N'\n",
    "\n",
    "while resposta != 'Y' :\n",
    "    resposta = input('Digite Y para sim e N para não:')\n",
    "print('\\n')\n",
    "print('--------------------------------------------------------------\\n')"
   ]
  },
  {
   "cell_type": "markdown",
   "metadata": {},
   "source": [
    "# Coletando nome dos jogadores"
   ]
  },
  {
   "cell_type": "code",
   "execution_count": null,
   "metadata": {},
   "outputs": [],
   "source": [
    "player_1 = input('Insira o nome do jogador 1: ')\n",
    "player_2 = input('Insira o nome do jogador 2: ')\n",
    "print('\\n')"
   ]
  },
  {
   "cell_type": "markdown",
   "metadata": {},
   "source": [
    "# Decidindo quem começa e qual o simbolo de cada um"
   ]
  },
  {
   "cell_type": "code",
   "execution_count": null,
   "metadata": {},
   "outputs": [],
   "source": [
    "x_player_1 = 0\n",
    "x_player_2 = 0\n",
    "\n",
    "#Para evitar empate\n",
    "while (x_player_1 == x_player_2) :\n",
    "    x_player_1 = random.randint(0, 21)\n",
    "    x_player_2 = random.randint(0, 21)\n",
    "\n",
    "if x_player_1 > x_player_2 :\n",
    "    jogador =1\n",
    "    print(player_1,' começa \\n')\n",
    "else :\n",
    "    jogador =2\n",
    "    print(player_2,' começa \\n')\n",
    "\n",
    "print('--------------------------------------------------------------\\n')\n",
    "\n",
    "#Escolhendo os simbolos\n",
    "\n",
    "s_player_1 = ''\n",
    "while (s_player_1 != 'O' and s_player_1 != 'X'):\n",
    "\n",
    "    if jogador == 1 :\n",
    "        print(player_1,' escolha com qual simbolo quer jogar:')\n",
    "        s_player_1 = input('O ou X ?: ')\n",
    "    else :\n",
    "        print(player_2,' escolha com qual simbolo quer jogar:')\n",
    "        s_player_2 = input('O ou X ?: ')\n",
    "\n",
    "    if s_player_1 == 'O' :\n",
    "        s_player_2 = 'X'\n",
    "    else :\n",
    "        s_player_2 = 'O'\n",
    "        s_player_1 = 'X'\n",
    "\n",
    "print('\\n')\n",
    "print('--------------------------------------------------------------\\n')"
   ]
  },
  {
   "cell_type": "markdown",
   "metadata": {},
   "source": [
    "# Criando o tabuleiro para o jogo e rodando o jogo"
   ]
  },
  {
   "cell_type": "code",
   "execution_count": null,
   "metadata": {
    "scrolled": true
   },
   "outputs": [],
   "source": [
    "traco = '-'\n",
    "\n",
    "tabuleiro = DataFrame({'A' : [traco, traco, traco],\n",
    "                       'B' : [traco, traco, traco],\n",
    "                       'C' : [traco, traco, traco]})\n",
    "\n",
    "#Imprimir o tabuleiro \n",
    "\n",
    "print('Tabuleiro inicial:\\n')\n",
    "print(tabuleiro,'\\n')\n",
    "print('--------------------------------------------------------------\\n')\n",
    "\n",
    "# Rodando o Jogo\n",
    "\n",
    "rodada = 1\n",
    "partida =''\n",
    "\n",
    "while (partida != 'Vitoria' and partida !='Empate'):\n",
    "\n",
    "    if jogador == 1 :\n",
    "        print('Vez do/a ',player_1,'\\n')\n",
    "        str_linha = input('Escolha uma linha: ')\n",
    "        linha = int(str_linha)\n",
    "        coluna = input('Escolha uma coluna: ')\n",
    "        print('\\n')\n",
    "\n",
    "        #Função preenchimento\n",
    "        \n",
    "        preencher(linha,coluna,s_player_1)\n",
    "\n",
    "        #Funçao verificaçao de vitoria\n",
    "\n",
    "        partida = vitoria(linha,coluna,s_player_1)\n",
    "        \n",
    "        print(partida)\n",
    "\n",
    "        #Imprimir tabuleiro e rodada\n",
    "\n",
    "        print('Rodada ',rodada,' - ',player_1,'\\n')\n",
    "        print(tabuleiro,'\\n')\n",
    "        print('--------------------------------------------------------------\\n')\n",
    "        rodada = rodada + 1\n",
    "\n",
    "        if (partida != 'Vitoria' and rodada > 9 ) :\n",
    "            partida = 'Empate'\n",
    "\n",
    "        #Definindo se o turno passa ou não\n",
    "\n",
    "        if partida == 'Vitoria' :\n",
    "            jogador = 1\n",
    "        else :\n",
    "            jogador = 2\n",
    "\n",
    "    else :\n",
    "        print('Vez do/a ',player_2,'\\n')\n",
    "        str_linha = input('Escolha uma linha: ')\n",
    "        linha = int(str_linha)\n",
    "        coluna = input('Escolha uma coluna: ')\n",
    "        print('\\n')\n",
    "\n",
    "        #função preenchimento\n",
    "\n",
    "        preencher(linha,coluna,s_player_2)\n",
    "\n",
    "        #Funçao verificaçao de vitoria\n",
    "\n",
    "        partida = vitoria(linha,coluna,s_player_2)\n",
    "\n",
    "        #Imprimir tabuleiro e rodada\n",
    "\n",
    "        print('Rodada ',rodada,' - ',player_2,'\\n')\n",
    "        print(tabuleiro,'\\n')\n",
    "        print('------------------------------------------------------------\\n')\n",
    "        rodada = rodada + 1\n",
    "\n",
    "        if (partida != 'Vitoria' and rodada > 9 ) :\n",
    "            partida = 'Empate'\n",
    "\n",
    "        #Definindo se o turno passa ou não\n",
    "\n",
    "        if partida == 'Vitoria' :\n",
    "            jogador = 2\n",
    "        else :\n",
    "            jogador = 1\n",
    "            \n",
    "#Mostrando Resultado\n",
    "\n",
    "if partida == 'Empate' :\n",
    "    print(partida,'\\n')\n",
    "else :\n",
    "    if jogador == 1 :\n",
    "        print(player_1,' GANHOU !\\n')\n",
    "    else :\n",
    "        print(player_2,' GANHOU !\\n')\n",
    "\n",
    "print('------------------------------------------------------------\\n')\n",
    "\n",
    "#Agradecimentos finais\n",
    "\n",
    "print('Muito Obrigado por jogar!')"
   ]
  },
  {
   "cell_type": "code",
   "execution_count": null,
   "metadata": {},
   "outputs": [],
   "source": []
  }
 ],
 "metadata": {
  "kernelspec": {
   "display_name": "Python 3",
   "language": "python",
   "name": "python3"
  },
  "language_info": {
   "codemirror_mode": {
    "name": "ipython",
    "version": 3
   },
   "file_extension": ".py",
   "mimetype": "text/x-python",
   "name": "python",
   "nbconvert_exporter": "python",
   "pygments_lexer": "ipython3",
   "version": "3.8.5"
  }
 },
 "nbformat": 4,
 "nbformat_minor": 4
}
