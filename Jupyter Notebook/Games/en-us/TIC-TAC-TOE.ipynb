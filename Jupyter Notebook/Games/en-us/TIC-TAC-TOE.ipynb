{
 "cells": [
  {
   "cell_type": "markdown",
   "metadata": {},
   "source": [
    "# Description\n",
    "\n",
    "-The objective of this code is to be able to run a simple tic-tac-toe for 2 players;\n",
    "\n",
    "-The code was built using basic pandas functions like importing libraries, while loop, if/else, variable declaration, functions and using input and output. The use of the pandas library was also used, for the creation, use and manipulation of DataFrames;\n",
    "\n",
    "-There are other ways to make this game, but for this project I challenged myself to use these Python functions to show how they can be exploited and their applications;\n",
    "    "
   ]
  },
  {
   "cell_type": "markdown",
   "metadata": {},
   "source": [
    "# Libraries needed to run the game"
   ]
  },
  {
   "cell_type": "code",
   "execution_count": null,
   "metadata": {},
   "outputs": [],
   "source": [
    "#Uncomment the '#' to install the libraries or use the .pip\n",
    "\n",
    "#!pip install pandas\n",
    "#!pip install Numpy"
   ]
  },
  {
   "cell_type": "markdown",
   "metadata": {},
   "source": [
    "# Importing Libraries"
   ]
  },
  {
   "cell_type": "code",
   "execution_count": null,
   "metadata": {},
   "outputs": [],
   "source": [
    "import numpy as np\n",
    "import pandas as pd\n",
    "import random\n",
    "from pandas import DataFrame"
   ]
  },
  {
   "cell_type": "markdown",
   "metadata": {},
   "source": [
    "# Defining roles"
   ]
  },
  {
   "cell_type": "code",
   "execution_count": null,
   "metadata": {},
   "outputs": [],
   "source": [
    "#Board fill function\n",
    "\n",
    "def preencher(linha,coluna,simbolo) :\n",
    "    tabuleiro.loc[linha,coluna] = simbolo\n",
    "\n",
    "#Function to determine victory\n",
    "\n",
    "def vitoria(linha,coluna,simbolo) :\n",
    "    v_linha = 0\n",
    "    v_coluna = 0\n",
    "    v_diagonal_1 = 0\n",
    "    v_diagonal_2 = 0\n",
    "\n",
    "    #Calculate win by line\n",
    "    \n",
    "    if tabuleiro.loc[linha,'A'] == simbolo :\n",
    "        v_linha = v_linha + 1\n",
    "    if tabuleiro.loc[linha,'B'] == simbolo :\n",
    "        v_linha = v_linha + 1\n",
    "    if tabuleiro.loc[linha,'C'] == simbolo :\n",
    "        v_linha = v_linha + 1\n",
    "\n",
    "    #Calculate win by column\n",
    "    \n",
    "    if tabuleiro.loc[0,coluna] == simbolo :\n",
    "        v_coluna = v_coluna + 1\n",
    "    if tabuleiro.loc[1,coluna] == simbolo :\n",
    "        v_coluna = v_coluna + 1\n",
    "    if tabuleiro.loc[2,coluna] == simbolo :\n",
    "        v_coluna = v_coluna + 1\n",
    "\n",
    "    #Calculate victory by diagonal 1\n",
    "    \n",
    "    if tabuleiro.loc[0,'A'] == simbolo :\n",
    "        v_diagonal_1 = v_diagonal_1 + 1\n",
    "    if tabuleiro.loc[1,'B'] == simbolo :\n",
    "        v_diagonal_1 = v_diagonal_1 + 1\n",
    "    if tabuleiro.loc[2,'C'] == simbolo:\n",
    "        v_diagonal_1 = v_diagonal_1 + 1\n",
    "\n",
    "    #Calculate victory by diagonal 2\n",
    "    \n",
    "    if tabuleiro.loc[0,'C'] == simbolo :\n",
    "        v_diagonal_2 = v_diagonal_2 + 1\n",
    "    if tabuleiro.loc[1,'B'] == simbolo :\n",
    "        v_diagonal_2 = v_diagonal_2 + 1\n",
    "    if tabuleiro.loc[2,'A'] == simbolo :\n",
    "        v_diagonal_2 = v_diagonal_2 + 1\n",
    "\n",
    "    #Set victory\n",
    "    \n",
    "    if (v_linha == 3 or v_coluna == 3 or v_diagonal_1 == 3 or v_diagonal_2 == 3) :\n",
    "        partida = 'Vitoria'\n",
    "    else :\n",
    "        partida = 'Nada'\n",
    "    return partida"
   ]
  },
  {
   "cell_type": "markdown",
   "metadata": {},
   "source": [
    "# Game rules"
   ]
  },
  {
   "cell_type": "code",
   "execution_count": null,
   "metadata": {},
   "outputs": [],
   "source": [
    "print('Instructions:\\n')\n",
    "print('1. Enter player names;\\n')\n",
    "print('2. The game will choose who will start automatically;\\n')\n",
    "print('3. The player who will play first chooses whether to play with X or O;\\n')\n",
    "print('4. An empty board will appear with columns named A, B and C and rows numbered 0, 1 and 2;\\n ')\n",
    "print('5. Players must select a row and a column, where the letters must always be capitalized.;\\n ')\n",
    "print('6. The rounds will take place until one of the participants wins or a tie occurs.\\n')\n",
    "print('--------------------------------------------------------------\\n')"
   ]
  },
  {
   "cell_type": "markdown",
   "metadata": {},
   "source": [
    "# Confirmation of understanding of the rules"
   ]
  },
  {
   "cell_type": "code",
   "execution_count": null,
   "metadata": {},
   "outputs": [],
   "source": [
    "print('Can the game start?')\n",
    "\n",
    "resposta = 'N'\n",
    "\n",
    "while resposta != 'Y' :\n",
    "    resposta = input('Enter Y for yes and N for no:')\n",
    "print('\\n')\n",
    "print('--------------------------------------------------------------\\n')"
   ]
  },
  {
   "cell_type": "markdown",
   "metadata": {},
   "source": [
    "# Collecting Player Names"
   ]
  },
  {
   "cell_type": "code",
   "execution_count": null,
   "metadata": {},
   "outputs": [],
   "source": [
    "player_1 = input('Enter player name 1: ')\n",
    "player_2 = input('Enter player name 2: ')\n",
    "print('\\n')"
   ]
  },
  {
   "cell_type": "markdown",
   "metadata": {},
   "source": [
    "# Deciding who starts and what is the symbol of each one"
   ]
  },
  {
   "cell_type": "code",
   "execution_count": null,
   "metadata": {},
   "outputs": [],
   "source": [
    "x_player_1 = 0\n",
    "x_player_2 = 0\n",
    "\n",
    "#To avoid a tie\n",
    "\n",
    "while (x_player_1 == x_player_2) :\n",
    "    x_player_1 = random.randint(0, 21)\n",
    "    x_player_2 = random.randint(0, 21)\n",
    "\n",
    "if x_player_1 > x_player_2 :\n",
    "    jogador =1\n",
    "    print(player_1,' begins \\n')\n",
    "else :\n",
    "    jogador =2\n",
    "    print(player_2,' begins \\n')\n",
    "\n",
    "print('--------------------------------------------------------------\\n')\n",
    "\n",
    "#Choosing symbols\n",
    "\n",
    "\n",
    "s_player_1 = ''\n",
    "while (s_player_1 != 'O' and s_player_1 != 'X'):\n",
    "\n",
    "    if jogador == 1 :\n",
    "        print(player_1,' choose which symbol you want to play:')\n",
    "        s_player_1 = input('O ou X ?: ')\n",
    "    else :\n",
    "        print(player_2,' choose which symbol you want to play:')\n",
    "        s_player_2 = input('O ou X ?: ')\n",
    "\n",
    "    if s_player_1 == 'O' :\n",
    "        s_player_2 = 'X'\n",
    "    else :\n",
    "        s_player_2 = 'O'\n",
    "        s_player_1 = 'X'\n",
    "\n",
    "print('\\n')\n",
    "print('--------------------------------------------------------------\\n')"
   ]
  },
  {
   "cell_type": "markdown",
   "metadata": {},
   "source": [
    "# Creating the game board and running the game"
   ]
  },
  {
   "cell_type": "code",
   "execution_count": null,
   "metadata": {
    "scrolled": true
   },
   "outputs": [],
   "source": [
    "traco = '-'\n",
    "\n",
    "tabuleiro = DataFrame({'A' : [traco, traco, traco],\n",
    "                       'B' : [traco, traco, traco],\n",
    "                       'C' : [traco, traco, traco]})\n",
    "\n",
    "#Print the board \n",
    "\n",
    "print('Starting board:\\n')\n",
    "print(tabuleiro,'\\n')\n",
    "print('--------------------------------------------------------------\\n')\n",
    "\n",
    "# Running the game\n",
    "\n",
    "rodada = 1\n",
    "partida =''\n",
    "\n",
    "while (partida != 'Vitoria' and partida !='Empate'):\n",
    "\n",
    "    if jogador == 1 :\n",
    "        print('Vez do/a ',player_1,'\\n')\n",
    "        str_linha = input('Choose a line: ')\n",
    "        linha = int(str_linha)\n",
    "        coluna = input('Choose a column: ')\n",
    "        print('\\n')\n",
    "\n",
    "        #Board fill function\n",
    "        \n",
    "        preencher(linha,coluna,s_player_1)\n",
    "\n",
    "        #Function to determine victory\n",
    "\n",
    "        partida = vitoria(linha,coluna,s_player_1)\n",
    "        \n",
    "        print(partida)\n",
    "\n",
    "        #Print board and round\n",
    "\n",
    "        print('Round ',rodada,' - ',player_1,'\\n')\n",
    "        print(tabuleiro,'\\n')\n",
    "        print('--------------------------------------------------------------\\n')\n",
    "        rodada = rodada + 1\n",
    "\n",
    "        if (partida != 'Vitoria' and rodada > 9 ) :\n",
    "            partida = 'Empate'\n",
    "\n",
    "        #Defining whether the shift passes or not\n",
    "\n",
    "        if partida == 'Vitoria' :\n",
    "            jogador = 1\n",
    "        else :\n",
    "            jogador = 2\n",
    "\n",
    "    else :\n",
    "        print('Vez do/a ',player_2,'\\n')\n",
    "        str_linha = input('Choose a line: ')\n",
    "        linha = int(str_linha)\n",
    "        coluna = input('Choose a column: ')\n",
    "        print('\\n')\n",
    "\n",
    "        #Board fill function\n",
    "\n",
    "        preencher(linha,coluna,s_player_2)\n",
    "\n",
    "        #Function to determine victory\n",
    "\n",
    "        partida = vitoria(linha,coluna,s_player_2)\n",
    "\n",
    "        #Print board and round\n",
    "\n",
    "        print('Round ',rodada,' - ',player_2,'\\n')\n",
    "        print(tabuleiro,'\\n')\n",
    "        print('------------------------------------------------------------\\n')\n",
    "        rodada = rodada + 1\n",
    "\n",
    "        if (partida != 'Vitoria' and rodada > 9 ) :\n",
    "            partida = 'Empate'\n",
    "\n",
    "        #Defining whether the shift passes or not\n",
    "\n",
    "        if partida == 'Vitoria' :\n",
    "            jogador = 2\n",
    "        else :\n",
    "            jogador = 1\n",
    "            \n",
    "#Showing result\n",
    "\n",
    "if partida == 'Empate' :\n",
    "    print('Tie \\n')\n",
    "else :\n",
    "    if jogador == 1 :\n",
    "        print(player_1,' WON !\\n')\n",
    "    else :\n",
    "        print(player_2,' WON !\\n')\n",
    "\n",
    "print('------------------------------------------------------------\\n')\n",
    "\n",
    "#Final thanks\n",
    "\n",
    "print('Thank you so much for playing!')"
   ]
  },
  {
   "cell_type": "code",
   "execution_count": null,
   "metadata": {},
   "outputs": [],
   "source": []
  }
 ],
 "metadata": {
  "kernelspec": {
   "display_name": "Python 3",
   "language": "python",
   "name": "python3"
  },
  "language_info": {
   "codemirror_mode": {
    "name": "ipython",
    "version": 3
   },
   "file_extension": ".py",
   "mimetype": "text/x-python",
   "name": "python",
   "nbconvert_exporter": "python",
   "pygments_lexer": "ipython3",
   "version": "3.8.5"
  }
 },
 "nbformat": 4,
 "nbformat_minor": 4
}
